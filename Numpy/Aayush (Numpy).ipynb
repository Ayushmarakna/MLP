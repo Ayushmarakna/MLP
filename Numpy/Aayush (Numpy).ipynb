{
 "cells": [
  {
   "cell_type": "code",
   "execution_count": 1,
   "id": "ce8953f7",
   "metadata": {},
   "outputs": [],
   "source": [
    "import numpy as np"
   ]
  },
  {
   "cell_type": "code",
   "execution_count": 2,
   "id": "fa5da2c8",
   "metadata": {},
   "outputs": [
    {
     "name": "stdout",
     "output_type": "stream",
     "text": [
      "Hello World\n"
     ]
    }
   ],
   "source": [
    "print(\"Hello World\")"
   ]
  },
  {
   "cell_type": "code",
   "execution_count": 3,
   "id": "9dfc220e",
   "metadata": {},
   "outputs": [
    {
     "name": "stdout",
     "output_type": "stream",
     "text": [
      "[1 2 3 4]\n"
     ]
    }
   ],
   "source": [
    "a=np.array([1,2,3,4])\n",
    "print(a)"
   ]
  },
  {
   "cell_type": "code",
   "execution_count": 4,
   "id": "44f7df0b",
   "metadata": {},
   "outputs": [
    {
     "name": "stdout",
     "output_type": "stream",
     "text": [
      "array a :  [1 2 3 4]\n",
      "array a : [1 2 3 4]\n",
      "array a : [1 2 3 4]\n"
     ]
    }
   ],
   "source": [
    "print(\"array a : \",a)\n",
    "print(f\"array a : {a}\")\n",
    "print(\"array a : {}\".format(a))"
   ]
  },
  {
   "cell_type": "code",
   "execution_count": 5,
   "id": "c5bb68ca",
   "metadata": {},
   "outputs": [
    {
     "name": "stdout",
     "output_type": "stream",
     "text": [
      "ndim:1\n"
     ]
    }
   ],
   "source": [
    "print(f\"ndim:{a.ndim}\")"
   ]
  },
  {
   "cell_type": "code",
   "execution_count": 6,
   "id": "018e93c8",
   "metadata": {},
   "outputs": [
    {
     "name": "stdout",
     "output_type": "stream",
     "text": [
      "size:4\n"
     ]
    }
   ],
   "source": [
    "print(f\"size:{a.size}\")"
   ]
  },
  {
   "cell_type": "code",
   "execution_count": 7,
   "id": "6586255c",
   "metadata": {},
   "outputs": [
    {
     "name": "stdout",
     "output_type": "stream",
     "text": [
      "shape:(4,)\n"
     ]
    }
   ],
   "source": [
    "print(f\"shape:{a.shape}\")"
   ]
  },
  {
   "cell_type": "code",
   "execution_count": 8,
   "id": "08e35dcf",
   "metadata": {},
   "outputs": [
    {
     "name": "stdout",
     "output_type": "stream",
     "text": [
      "dtype:int32\n"
     ]
    }
   ],
   "source": [
    "print(f\"dtype:{a.dtype}\")"
   ]
  },
  {
   "cell_type": "code",
   "execution_count": 9,
   "id": "bf2471c4",
   "metadata": {},
   "outputs": [
    {
     "name": "stdout",
     "output_type": "stream",
     "text": [
      "itemsize:4\n"
     ]
    }
   ],
   "source": [
    "print(f\"itemsize:{a.itemsize}\")"
   ]
  },
  {
   "cell_type": "code",
   "execution_count": 10,
   "id": "7a66cdd1",
   "metadata": {},
   "outputs": [
    {
     "name": "stdout",
     "output_type": "stream",
     "text": [
      "[[1 2 3 4]\n",
      " [5 6 7 8]]\n"
     ]
    }
   ],
   "source": [
    "a=np.array([[1,2,3,4],[5,6,7,8]])\n",
    "print(a)"
   ]
  },
  {
   "cell_type": "code",
   "execution_count": 11,
   "id": "0841b462",
   "metadata": {},
   "outputs": [
    {
     "name": "stdout",
     "output_type": "stream",
     "text": [
      "[[ 2  4  6  8]\n",
      " [ 6  8 10 12]]\n"
     ]
    }
   ],
   "source": [
    "b=np.array([1,2,3,4])\n",
    "c=np.add(a,b)\n",
    "print(c)"
   ]
  },
  {
   "cell_type": "code",
   "execution_count": 13,
   "id": "f39802bb",
   "metadata": {},
   "outputs": [
    {
     "name": "stdout",
     "output_type": "stream",
     "text": [
      "[[ 2  4  6  8]\n",
      " [ 6  8 10 12]]\n",
      "[[0 0 0 0]\n",
      " [4 4 4 4]]\n",
      "[[ 1  4  9 16]\n",
      " [ 5 12 21 32]]\n",
      "[[1.         1.         1.         1.        ]\n",
      " [5.         3.         2.33333333 2.        ]]\n",
      "[[   1    4   27  256]\n",
      " [   5   36  343 4096]]\n",
      "[[0 0 0 0]\n",
      " [0 0 1 0]]\n",
      "[[0 0 0 0]\n",
      " [0 0 1 0]]\n"
     ]
    }
   ],
   "source": [
    "f=np.array([[1,2,3,4],[5,6,7,8]])\n",
    "c=np.add(a,b)\n",
    "d=np.subtract(a,b)\n",
    "e=np.multiply(a,b)\n",
    "g=np.divide(a,b)\n",
    "h=np.power(a,b)\n",
    "i=np.mod(a,b)\n",
    "j=np.remainder(a,b)\n",
    "print(c)\n",
    "print(d)\n",
    "print(e)\n",
    "print(g)\n",
    "print(h)\n",
    "print(i)\n",
    "print(j)\n"
   ]
  },
  {
   "cell_type": "code",
   "execution_count": 18,
   "id": "2d4d9b5d",
   "metadata": {},
   "outputs": [
    {
     "name": "stdout",
     "output_type": "stream",
     "text": [
      "['Aayush' 'Nixan' 'Madhvi' 'Druva' 'Dyey' 'Ritik']\n"
     ]
    }
   ],
   "source": [
    "y=np.array(['Aayush','Nixan','Madhvi','Druva','Dyey','Ritik'])\n",
    "print(y)"
   ]
  },
  {
   "cell_type": "code",
   "execution_count": 19,
   "id": "e998bf5b",
   "metadata": {},
   "outputs": [
    {
     "name": "stdout",
     "output_type": "stream",
     "text": [
      "[[0. 0. 0.]\n",
      " [0. 0. 0.]]\n"
     ]
    }
   ],
   "source": [
    "z=np.zeros((2,3))\n",
    "print(z)"
   ]
  },
  {
   "cell_type": "code",
   "execution_count": 20,
   "id": "a0f4673d",
   "metadata": {},
   "outputs": [
    {
     "name": "stdout",
     "output_type": "stream",
     "text": [
      "[[1. 1. 1.]\n",
      " [1. 1. 1.]\n",
      " [1. 1. 1.]]\n"
     ]
    }
   ],
   "source": [
    "one=np.ones((3,3))\n",
    "print(one)"
   ]
  },
  {
   "cell_type": "code",
   "execution_count": 21,
   "id": "336a347d",
   "metadata": {},
   "outputs": [
    {
     "name": "stdout",
     "output_type": "stream",
     "text": [
      "[[4.24399158e-314 8.48798317e-314]\n",
      " [1.27319747e-313 1.69759663e-313]]\n"
     ]
    }
   ],
   "source": [
    "empty=np.empty((2,2))\n",
    "print(empty)"
   ]
  },
  {
   "cell_type": "code",
   "execution_count": 22,
   "id": "899ff77e",
   "metadata": {},
   "outputs": [
    {
     "name": "stdout",
     "output_type": "stream",
     "text": [
      "[1.  1.5 2.  2.5 3.  3.5 4.  4.5]\n"
     ]
    }
   ],
   "source": [
    "ar=np.arange(1,5,0.5)\n",
    "print(ar)"
   ]
  },
  {
   "cell_type": "code",
   "execution_count": 23,
   "id": "df1b87e2",
   "metadata": {},
   "outputs": [
    {
     "name": "stdout",
     "output_type": "stream",
     "text": [
      "[1.         1.44444444 1.88888889 2.33333333 2.77777778 3.22222222\n",
      " 3.66666667 4.11111111 4.55555556 5.        ]\n"
     ]
    }
   ],
   "source": [
    "l=np.linspace(1,5,10)\n",
    "print(l)"
   ]
  },
  {
   "cell_type": "code",
   "execution_count": 24,
   "id": "a006d5df",
   "metadata": {
    "scrolled": true
   },
   "outputs": [
    {
     "name": "stdout",
     "output_type": "stream",
     "text": [
      "[[0.19910814 0.45614938 0.70817173]\n",
      " [0.96287508 0.94949922 0.06790938]]\n"
     ]
    }
   ],
   "source": [
    "r=np.random.random((2,3))\n",
    "print(r)"
   ]
  },
  {
   "cell_type": "code",
   "execution_count": 28,
   "id": "b1070ccd",
   "metadata": {},
   "outputs": [
    {
     "name": "stdout",
     "output_type": "stream",
     "text": [
      "[[2 3 4]\n",
      " [6 7 8]]\n",
      "Sliced Array: [[2 3]\n",
      " [6 7]]\n"
     ]
    }
   ],
   "source": [
    "a=np.array([[2,3,4],[6,7,8]])\n",
    "print(a)\n",
    "sliced_arr=a[:2,:2]\n",
    "print(\"Sliced Array:\",sliced_arr)"
   ]
  },
  {
   "cell_type": "code",
   "execution_count": 29,
   "id": "a0d16072",
   "metadata": {},
   "outputs": [
    {
     "name": "stdout",
     "output_type": "stream",
     "text": [
      "[6 3]\n"
     ]
    }
   ],
   "source": [
    "indexed_arr=a[[1,0],[0,1]]\n",
    "print(indexed_arr)"
   ]
  },
  {
   "cell_type": "code",
   "execution_count": 30,
   "id": "b18eb057",
   "metadata": {},
   "outputs": [
    {
     "name": "stdout",
     "output_type": "stream",
     "text": [
      "30\n"
     ]
    }
   ],
   "source": [
    "print(a.sum())"
   ]
  },
  {
   "cell_type": "code",
   "execution_count": 31,
   "id": "92ebac2c",
   "metadata": {},
   "outputs": [
    {
     "name": "stdout",
     "output_type": "stream",
     "text": [
      "[5.         6.70820393 7.48331477 9.        ]\n"
     ]
    }
   ],
   "source": [
    "a1=np.array([25,45,56,81])\n",
    "print(np.sqrt(a1))"
   ]
  },
  {
   "cell_type": "code",
   "execution_count": 32,
   "id": "f2505283",
   "metadata": {},
   "outputs": [
    {
     "name": "stdout",
     "output_type": "stream",
     "text": [
      "[[ 7  8  9]\n",
      " [11 12 13]]\n"
     ]
    }
   ],
   "source": [
    "b=a+5\n",
    "print(b)"
   ]
  },
  {
   "cell_type": "code",
   "execution_count": 33,
   "id": "4ece507a",
   "metadata": {},
   "outputs": [
    {
     "name": "stdout",
     "output_type": "stream",
     "text": [
      "[[ 30  42  51]\n",
      " [ 75 102 123]\n",
      " [120 162 195]]\n"
     ]
    }
   ],
   "source": [
    "m1=np.array([[1,2,3],[4,5,6],[7,8,9]])\n",
    "m2=np.array([[4,5,6],[7,8,9],[4,7,9]])\n",
    "m3=np.dot(m1,m2)\n",
    "print(m3)"
   ]
  },
  {
   "cell_type": "code",
   "execution_count": 34,
   "id": "8336a7d5",
   "metadata": {},
   "outputs": [
    {
     "name": "stdout",
     "output_type": "stream",
     "text": [
      "all() with axis none True\n",
      "all() with axis=0 [ True  True False]\n",
      "all() with axis=1 [ True  True]\n"
     ]
    }
   ],
   "source": [
    "bool=np.array([[True,True,False],[True,False,False]])\n",
    "print(\"all() with axis none\",np.any(bool))\n",
    "print(\"all() with axis=0\",np.any(bool,axis=0))\n",
    "print(\"all() with axis=1\",np.any(bool,axis=1))"
   ]
  },
  {
   "cell_type": "code",
   "execution_count": 35,
   "id": "0a1e4af2",
   "metadata": {},
   "outputs": [
    {
     "name": "stdout",
     "output_type": "stream",
     "text": [
      "all() with axis none False\n",
      "all() with axis=0 [ True False False]\n",
      "all() with axis=1 [False False]\n"
     ]
    }
   ],
   "source": [
    "bool=np.array([[True,True,False],[True,False,False]])\n",
    "print(\"all() with axis none\",np.all(bool))\n",
    "print(\"all() with axis=0\",np.all(bool,axis=0))\n",
    "print(\"all() with axis=1\",np.all(bool,axis=1))"
   ]
  },
  {
   "cell_type": "code",
   "execution_count": 36,
   "id": "e8f868d4",
   "metadata": {},
   "outputs": [
    {
     "name": "stdout",
     "output_type": "stream",
     "text": [
      "[0 1 2 3 4 5 6 7]\n",
      "[[0 1 2 3]\n",
      " [4 5 6 7]]\n"
     ]
    }
   ],
   "source": [
    "a1=np.arange(8)\n",
    "print(a1)\n",
    "re=a1.reshape(2,4)\n",
    "print(re)"
   ]
  },
  {
   "cell_type": "code",
   "execution_count": 37,
   "id": "53bebddf",
   "metadata": {},
   "outputs": [
    {
     "name": "stdout",
     "output_type": "stream",
     "text": [
      "[[1 2 3]\n",
      " [4 5 6]\n",
      " [7 8 9]]\n",
      "[[4 5 6]\n",
      " [7 8 9]\n",
      " [4 7 9]]\n",
      "[[ 30  42  51]\n",
      " [ 75 102 123]\n",
      " [120 162 195]]\n"
     ]
    }
   ],
   "source": [
    "print(m1)\n",
    "print(m2)\n",
    "print(m3)"
   ]
  },
  {
   "cell_type": "code",
   "execution_count": 38,
   "id": "d67a949d",
   "metadata": {},
   "outputs": [
    {
     "name": "stdout",
     "output_type": "stream",
     "text": [
      "[[  1   2   3]\n",
      " [  4   5   6]\n",
      " [  7   8   9]\n",
      " [  4   5   6]\n",
      " [  7   8   9]\n",
      " [  4   7   9]\n",
      " [ 30  42  51]\n",
      " [ 75 102 123]\n",
      " [120 162 195]]\n"
     ]
    }
   ],
   "source": [
    "v=np.vstack((m1,m2,m3))\n",
    "print(v)"
   ]
  },
  {
   "cell_type": "code",
   "execution_count": 39,
   "id": "28cbcd6b",
   "metadata": {},
   "outputs": [
    {
     "name": "stdout",
     "output_type": "stream",
     "text": [
      "[[  1   2   3   4   5   6  30  42  51]\n",
      " [  4   5   6   7   8   9  75 102 123]\n",
      " [  7   8   9   4   7   9 120 162 195]]\n"
     ]
    }
   ],
   "source": [
    "h=np.hstack((m1,m2,m3))\n",
    "print(h)"
   ]
  },
  {
   "cell_type": "code",
   "execution_count": 41,
   "id": "cca907a6",
   "metadata": {},
   "outputs": [
    {
     "name": "stdout",
     "output_type": "stream",
     "text": [
      "[array([[1, 2, 3],\n",
      "       [4, 5, 6],\n",
      "       [7, 8, 9]]), array([[4, 5, 6],\n",
      "       [7, 8, 9],\n",
      "       [4, 7, 9]]), array([[ 30,  42,  51],\n",
      "       [ 75, 102, 123],\n",
      "       [120, 162, 195]])]\n"
     ]
    }
   ],
   "source": [
    "hsplit=np.hsplit(h,3)\n",
    "print(hsplit)"
   ]
  },
  {
   "cell_type": "code",
   "execution_count": 42,
   "id": "1dec3eeb",
   "metadata": {},
   "outputs": [
    {
     "name": "stdout",
     "output_type": "stream",
     "text": [
      "[array([[ 1,  2,  3,  4,  5,  6, 30, 42, 51]]), array([[  4,   5,   6,   7,   8,   9,  75, 102, 123]]), array([[  7,   8,   9,   4,   7,   9, 120, 162, 195]])]\n"
     ]
    }
   ],
   "source": [
    "vsplit=np.vsplit(h,3)\n",
    "print(vsplit)"
   ]
  },
  {
   "cell_type": "code",
   "execution_count": 43,
   "id": "6a253701",
   "metadata": {},
   "outputs": [
    {
     "name": "stdout",
     "output_type": "stream",
     "text": [
      "Sqrt:  [4.79583152 5.83095189 6.70820393 8.18535277]\n",
      "Exp:  [9.74480345e+09 5.83461743e+14 3.49342711e+19 1.25236317e+29]\n",
      "Sin:  [-0.8462204   0.52908269  0.85090352 -0.85551998]\n",
      "Cos:  [-0.53283302 -0.84857027  0.52532199 -0.5177698 ]\n",
      "Log:  [3.13549422 3.52636052 3.80666249 4.20469262]\n",
      "Sum:  169\n",
      "Std:  16.269219403523945\n"
     ]
    }
   ],
   "source": [
    "arr=np.array([23,34,45,67])\n",
    "print(\"Sqrt: \",np.sqrt(arr)) #Return the Square root of each element\n",
    "print(\"Exp: \",np.exp(arr)) #Return the exponentials each element\n",
    "print(\"Sin: \",np.sin(arr)) #Return the sin of each element\n",
    "print(\"Cos: \",np.cos(arr)) #Return the cosine of each element\n",
    "print(\"Log: \",np.log(arr)) #Return the logarithm of each element\n",
    "print(\"Sum: \",np.sum(arr)) #Return the sum total of each element\n",
    "print(\"Std: \",np.std(arr)) #Return the standard deviation each element"
   ]
  },
  {
   "cell_type": "code",
   "execution_count": 44,
   "id": "aa94455b",
   "metadata": {},
   "outputs": [
    {
     "name": "stdout",
     "output_type": "stream",
     "text": [
      "Random:[0.03492403 0.00244027 0.90837275 0.3000564  0.67349584 0.44689932\n",
      " 0.87077301 0.91908789 0.97257374 0.92443932 0.67403475 0.93002514\n",
      " 0.8670408  0.34582486 0.81277213 0.27294797 0.11708781 0.64926635\n",
      " 0.62583362 0.34003675]\n",
      "\n",
      "Rand:[[0.67211724 0.99502412 0.16882539 0.85907899]\n",
      " [0.04915309 0.27892814 0.50101757 0.97144285]\n",
      " [0.36636956 0.63648595 0.34603914 0.89925226]]\n",
      "\n",
      "Randint:[ 7 35 72 71 14 91 28  9 46 55 71 90 35  7 79 17 94 80 18 15]\n",
      "\n",
      "Permutation:[18 16 11  7 19  0 14  1 10 13  9  6  2  8  5  3 17 12 15  4]\n",
      "\n"
     ]
    }
   ],
   "source": [
    "print(\"Random:{}\\n\".format(np.random.random(20)));\n",
    "print(\"Rand:{}\\n\".format(np.random.rand(3,4)));\n",
    "print(\"Randint:{}\\n\".format(np.random.randint(0,100,20)));\n",
    "print(\"Permutation:{}\\n\".format(np.random.permutation(np.arange(20))));"
   ]
  },
  {
   "cell_type": "code",
   "execution_count": null,
   "id": "f8c37fbd",
   "metadata": {},
   "outputs": [],
   "source": []
  }
 ],
 "metadata": {
  "kernelspec": {
   "display_name": "Python 3 (ipykernel)",
   "language": "python",
   "name": "python3"
  },
  "language_info": {
   "codemirror_mode": {
    "name": "ipython",
    "version": 3
   },
   "file_extension": ".py",
   "mimetype": "text/x-python",
   "name": "python",
   "nbconvert_exporter": "python",
   "pygments_lexer": "ipython3",
   "version": "3.11.5"
  }
 },
 "nbformat": 4,
 "nbformat_minor": 5
}
