{
 "cells": [
  {
   "cell_type": "code",
   "execution_count": 2,
   "id": "c1500254",
   "metadata": {},
   "outputs": [],
   "source": [
    "import pandas as pd"
   ]
  },
  {
   "cell_type": "code",
   "execution_count": 3,
   "id": "89c94119",
   "metadata": {},
   "outputs": [
    {
     "name": "stdout",
     "output_type": "stream",
     "text": [
      "2.0.3\n"
     ]
    }
   ],
   "source": [
    "print(pd.__version__);"
   ]
  },
  {
   "cell_type": "code",
   "execution_count": 4,
   "id": "267c6807",
   "metadata": {},
   "outputs": [
    {
     "name": "stdout",
     "output_type": "stream",
     "text": [
      "[1, 2, 3, 4, 5]\n",
      "4\n",
      "11    1\n",
      "12    2\n",
      "13    3\n",
      "14    4\n",
      "15    5\n",
      "dtype: int64\n"
     ]
    }
   ],
   "source": [
    "a=[1,2,3,4,5]\n",
    "s1=pd.Series(a,index=[\"11\",\"12\",\"13\",\"14\",\"15\"]) #to change index\n",
    "print(a)\n",
    "print(a[3])\n",
    "print(s1)"
   ]
  },
  {
   "cell_type": "code",
   "execution_count": 5,
   "id": "bdcd261b",
   "metadata": {},
   "outputs": [
    {
     "name": "stdout",
     "output_type": "stream",
     "text": [
      "3\n"
     ]
    }
   ],
   "source": [
    "print(s1[\"13\"]) #to find specific index"
   ]
  },
  {
   "cell_type": "code",
   "execution_count": 6,
   "id": "d605aba9",
   "metadata": {},
   "outputs": [
    {
     "name": "stdout",
     "output_type": "stream",
     "text": [
      "{'AIML': 4, 'CCN': 4, 'WS': 3, 'CS': 4}\n",
      "AIML    4\n",
      "CCN     4\n",
      "WS      3\n",
      "CS      4\n",
      "dtype: int64\n",
      "4\n"
     ]
    }
   ],
   "source": [
    "keyval={\"AIML\":4,\"CCN\":4,\"WS\":3,\"CS\":4}\n",
    "print(keyval)\n",
    "key=pd.Series(keyval)\n",
    "print(key)\n",
    "print(key[\"CCN\"])"
   ]
  },
  {
   "cell_type": "code",
   "execution_count": 7,
   "id": "63cc6c5a",
   "metadata": {},
   "outputs": [
    {
     "name": "stdout",
     "output_type": "stream",
     "text": [
      "{'student': ['aiml', 'ccn', 'ws', 'cs'], 'marks': [90, 89, 99, 98]}\n",
      "  student  marks\n",
      "0    aiml     90\n",
      "1     ccn     89\n",
      "2      ws     99\n",
      "3      cs     98\n",
      "student    cs\n",
      "marks      98\n",
      "Name: 3, dtype: object\n"
     ]
    }
   ],
   "source": [
    "std={\"student\":[\"aiml\",\"ccn\",\"ws\",\"cs\"],\n",
    "    \"marks\":[90,89,99,98]}\n",
    "print(std)\n",
    "dfstd=pd.DataFrame(std)#to create data frame which store data in tabular formate\n",
    "print(dfstd)\n",
    "print(dfstd.loc[3])"
   ]
  },
  {
   "cell_type": "code",
   "execution_count": 11,
   "id": "c4796ac6",
   "metadata": {},
   "outputs": [
    {
     "name": "stdout",
     "output_type": "stream",
     "text": [
      "   roll      name  percantage         DOB\n",
      "0     1    Aayush        87.0  12-11-2003\n",
      "1     2   Madhavi        89.0   13-2-2002\n",
      "2     3   Remansi        54.0   4-12-2004\n",
      "3     4  Devanshi        67.0    5-9-2004\n",
      "4     5     Nixan         NaN    6-5-2000\n",
      "5     6     Dhyey        89.0   28-1-2004\n",
      "6     7    Dhruva        99.0    8-1-2003\n",
      "7     8   Aaditya        97.0    4-5-2003\n"
     ]
    }
   ],
   "source": [
    "std_data=pd.read_csv(\"data.csv\")#to read csv file\n",
    "print(std_data)"
   ]
  },
  {
   "cell_type": "code",
   "execution_count": 12,
   "id": "abffd63d",
   "metadata": {},
   "outputs": [
    {
     "name": "stdout",
     "output_type": "stream",
     "text": [
      "   roll      name  percantage         DOB\n",
      "0     1    Aayush        87.0  12-11-2003\n",
      "1     2   Madhavi        89.0   13-2-2002\n",
      "2     3   Remansi        54.0   4-12-2004\n",
      "3     4  Devanshi        67.0    5-9-2004\n",
      "4     5     Nixan         NaN    6-5-2000\n"
     ]
    }
   ],
   "source": [
    "print(std_data.head())#to fatch first 5 records"
   ]
  },
  {
   "cell_type": "code",
   "execution_count": 13,
   "id": "661e93ca",
   "metadata": {},
   "outputs": [
    {
     "name": "stdout",
     "output_type": "stream",
     "text": [
      "   roll      name  percantage        DOB\n",
      "3     4  Devanshi        67.0   5-9-2004\n",
      "4     5     Nixan         NaN   6-5-2000\n",
      "5     6     Dhyey        89.0  28-1-2004\n",
      "6     7    Dhruva        99.0   8-1-2003\n",
      "7     8   Aaditya        97.0   4-5-2003\n"
     ]
    }
   ],
   "source": [
    "print(std_data.tail())#to fatch last 5 records"
   ]
  },
  {
   "cell_type": "code",
   "execution_count": 15,
   "id": "b2b4174e",
   "metadata": {},
   "outputs": [
    {
     "name": "stdout",
     "output_type": "stream",
     "text": [
      "roll                  2\n",
      "name            Madhavi\n",
      "percantage         89.0\n",
      "DOB           13-2-2002\n",
      "Name: 1, dtype: object\n"
     ]
    }
   ],
   "source": [
    "print(std_data.loc[1])#to fatch single row"
   ]
  },
  {
   "cell_type": "code",
   "execution_count": 16,
   "id": "0a8d808f",
   "metadata": {},
   "outputs": [
    {
     "name": "stdout",
     "output_type": "stream",
     "text": [
      "<bound method DataFrame.info of    roll      name  percantage         DOB\n",
      "0     1    Aayush        87.0  12-11-2003\n",
      "1     2   Madhavi        89.0   13-2-2002\n",
      "2     3   Remansi        54.0   4-12-2004\n",
      "3     4  Devanshi        67.0    5-9-2004\n",
      "4     5     Nixan         NaN    6-5-2000\n",
      "5     6     Dhyey        89.0   28-1-2004\n",
      "6     7    Dhruva        99.0    8-1-2003\n",
      "7     8   Aaditya        97.0    4-5-2003>\n"
     ]
    }
   ],
   "source": [
    "print(std_data.info)"
   ]
  },
  {
   "cell_type": "code",
   "execution_count": 17,
   "id": "1fde02b2",
   "metadata": {},
   "outputs": [],
   "source": [
    "d=std_data.iloc[0:2]#fatch specific rows "
   ]
  },
  {
   "cell_type": "code",
   "execution_count": 18,
   "id": "bde1eea1",
   "metadata": {},
   "outputs": [
    {
     "name": "stdout",
     "output_type": "stream",
     "text": [
      "   roll     name  percantage         DOB\n",
      "0     1   Aayush        87.0  12-11-2003\n",
      "1     2  Madhavi        89.0   13-2-2002\n"
     ]
    }
   ],
   "source": [
    "print(d)"
   ]
  },
  {
   "cell_type": "code",
   "execution_count": 19,
   "id": "74184779",
   "metadata": {},
   "outputs": [
    {
     "name": "stdout",
     "output_type": "stream",
     "text": [
      "   roll      name  percantage         DOB\n",
      "0     1    Aayush        87.0  12-11-2003\n",
      "1     2   Madhavi        89.0   13-2-2002\n",
      "2     3   Remansi        54.0   4-12-2004\n",
      "3     4  Devanshi        67.0    5-9-2004\n",
      "5     6     Dhyey        89.0   28-1-2004\n",
      "6     7    Dhruva        99.0    8-1-2003\n",
      "7     8   Aaditya        97.0    4-5-2003\n"
     ]
    }
   ],
   "source": [
    "newstd_data=std_data.dropna()#to remove null value\n",
    "print(newstd_data)"
   ]
  },
  {
   "cell_type": "code",
   "execution_count": 20,
   "id": "f7b78b16",
   "metadata": {},
   "outputs": [
    {
     "name": "stdout",
     "output_type": "stream",
     "text": [
      "None\n"
     ]
    }
   ],
   "source": [
    "newstd_data=std_data.fillna(10,inplace=True)#fill null value with 10\n",
    "print(newstd_data)"
   ]
  },
  {
   "cell_type": "code",
   "execution_count": 21,
   "id": "15a6654f",
   "metadata": {},
   "outputs": [
    {
     "name": "stdout",
     "output_type": "stream",
     "text": [
      "0    87.0\n",
      "1    89.0\n",
      "2    54.0\n",
      "3    67.0\n",
      "4    10.0\n",
      "5    89.0\n",
      "6    99.0\n",
      "7    97.0\n",
      "Name: percantage, dtype: float64\n"
     ]
    }
   ],
   "source": [
    "new=std_data[\"percantage\"].fillna(\"90.33%\")#to change specific colum with null value\n",
    "print(new)"
   ]
  },
  {
   "cell_type": "code",
   "execution_count": 22,
   "id": "c11217dc",
   "metadata": {},
   "outputs": [
    {
     "name": "stdout",
     "output_type": "stream",
     "text": [
      "None\n"
     ]
    }
   ],
   "source": [
    "new=std_data[\"percantage\"].fillna(\"90.33%\",inplace=True)#modify data in same object(modify object) (update data in std_data variable) \n",
    "print(new)"
   ]
  },
  {
   "cell_type": "code",
   "execution_count": 23,
   "id": "4a9ebe3d",
   "metadata": {},
   "outputs": [
    {
     "name": "stdout",
     "output_type": "stream",
     "text": [
      "74.0\n"
     ]
    }
   ],
   "source": [
    "m=std_data[\"percantage\"].mean()\n",
    "print(m)"
   ]
  },
  {
   "cell_type": "code",
   "execution_count": 24,
   "id": "a91ef289",
   "metadata": {},
   "outputs": [
    {
     "name": "stdout",
     "output_type": "stream",
     "text": [
      "88.0\n"
     ]
    }
   ],
   "source": [
    "m=std_data[\"percantage\"].median()\n",
    "print(m)"
   ]
  },
  {
   "cell_type": "code",
   "execution_count": 25,
   "id": "35263a67",
   "metadata": {},
   "outputs": [
    {
     "name": "stdout",
     "output_type": "stream",
     "text": [
      "0    89.0\n",
      "Name: percantage, dtype: float64\n"
     ]
    }
   ],
   "source": [
    "m=std_data[\"percantage\"].mode()\n",
    "print(m)"
   ]
  },
  {
   "cell_type": "code",
   "execution_count": 28,
   "id": "6d0a759e",
   "metadata": {},
   "outputs": [
    {
     "name": "stdout",
     "output_type": "stream",
     "text": [
      "    id         name  class  mark  gender\n",
      "0    1     John Deo   Four    75  female\n",
      "1    2     Max Ruin  Three    85    male\n",
      "2    3       Arnold  Three    55    male\n",
      "3    4   Krish Star   Four    60  female\n",
      "4    5    John Mike   Four    60  female\n",
      "5    6    Alex John   Four    55    male\n",
      "6    7  My John Rob  Fifth    78    male\n",
      "7    8       Asruid   Five    85    male\n",
      "8    9      Tes Qry    Six    78    male\n",
      "9   10     Big John   Four    55  female\n",
      "10  11       Ronald    Six    89  female\n",
      "11  12        Recky    Six    94  female\n",
      "12  13          Kty  Seven    88  female\n",
      "13  14         Bigy  Seven    88  female\n",
      "14  15     Tade Row   Four    88    male\n",
      "15  16        Gimmy   Four    88    male\n",
      "16  17        Tumyu    Six    54    male\n",
      "17  18        Honny   Five    75    male\n",
      "18  19        Tinny   Nine    18    male\n",
      "19  20       Jackly   Nine    65  female\n",
      "20  21   Babby John   Four    69  female\n",
      "21  22       Reggid  Seven    55  female\n",
      "22  23        Herod  Eight    79    male\n",
      "23  24    Tiddy Now  Seven    78    male\n",
      "24  25     Giff Tow  Seven    88    male\n",
      "25  26       Crelea  Seven    79    male\n",
      "26  27     Big Nose  Three    81  female\n",
      "27  28    Rojj Base  Seven    86  female\n",
      "28  29  Tess Played  Seven    55    male\n",
      "29  30    Reppy Red    Six    79  female\n",
      "30  31  Marry Toeey   Four    88    male\n",
      "31  32    Binn Rott  Seven    90  female\n",
      "32  33    Kenn Rein    Six    96  female\n",
      "33  34     Gain Toe  Seven    69    male\n",
      "34  35   Rows Noump    Six    88  female\n"
     ]
    }
   ],
   "source": [
    "std=pd.read_csv(\"student.csv\")\n",
    "print(std)"
   ]
  },
  {
   "cell_type": "code",
   "execution_count": 30,
   "id": "5e51fe97",
   "metadata": {},
   "outputs": [
    {
     "name": "stdout",
     "output_type": "stream",
     "text": [
      "74.65714285714286\n",
      "79.0\n",
      "0    88\n",
      "Name: mark, dtype: int64\n"
     ]
    }
   ],
   "source": [
    "m=std[\"mark\"].mean()\n",
    "print(m)\n",
    "m=std[\"mark\"].median()\n",
    "print(m)\n",
    "m=std[\"mark\"].mode()\n",
    "print(m)"
   ]
  },
  {
   "cell_type": "code",
   "execution_count": 31,
   "id": "adabe2f3",
   "metadata": {},
   "outputs": [
    {
     "name": "stdout",
     "output_type": "stream",
     "text": [
      "     Unnamed: 0    #                   Name   Type 1  Type 2  Total  HP  \\\n",
      "0             0    1              Bulbasaur    Grass  Poison    318  45   \n",
      "1             1    2                Ivysaur    Grass  Poison    405  60   \n",
      "2             2    3               Venusaur    Grass  Poison    525  80   \n",
      "3             3    3  VenusaurMega Venusaur    Grass  Poison    625  80   \n",
      "4             4    4             Charmander     Fire     NaN    309  39   \n",
      "..          ...  ...                    ...      ...     ...    ...  ..   \n",
      "795         795  719                Diancie     Rock   Fairy    600  50   \n",
      "796         796  719    DiancieMega Diancie     Rock   Fairy    700  50   \n",
      "797         797  720    HoopaHoopa Confined  Psychic   Ghost    600  80   \n",
      "798         798  720     HoopaHoopa Unbound  Psychic    Dark    680  80   \n",
      "799         799  721              Volcanion     Fire   Water    600  80   \n",
      "\n",
      "     Attack  Defense  Sp. Atk  Sp. Def  Speed  Generation  Legendary    avg  \n",
      "0        49       49       65       65     45           1      False   71.5  \n",
      "1        62       63       80       80     60           1      False   92.5  \n",
      "2        82       83      100      100     80           1      False  122.5  \n",
      "3       100      123      122      120     80           1      False  151.5  \n",
      "4        52       43       60       50     65           1      False   67.0  \n",
      "..      ...      ...      ...      ...    ...         ...        ...    ...  \n",
      "795     100      150      100      150     50           6       True  150.0  \n",
      "796     160      110      160      110    110           6       True  160.0  \n",
      "797     110       60      150      130     70           6       True  125.0  \n",
      "798     160       60      170      130     80           6       True  150.0  \n",
      "799     110      120      130       90     70           6       True  155.0  \n",
      "\n",
      "[800 rows x 15 columns]\n"
     ]
    }
   ],
   "source": [
    "pk=pd.read_csv(\"pokemon.csv\")\n",
    "print(pk)"
   ]
  },
  {
   "cell_type": "code",
   "execution_count": 32,
   "id": "e9b4f357",
   "metadata": {},
   "outputs": [
    {
     "data": {
      "text/html": [
       "<div>\n",
       "<style scoped>\n",
       "    .dataframe tbody tr th:only-of-type {\n",
       "        vertical-align: middle;\n",
       "    }\n",
       "\n",
       "    .dataframe tbody tr th {\n",
       "        vertical-align: top;\n",
       "    }\n",
       "\n",
       "    .dataframe thead th {\n",
       "        text-align: right;\n",
       "    }\n",
       "</style>\n",
       "<table border=\"1\" class=\"dataframe\">\n",
       "  <thead>\n",
       "    <tr style=\"text-align: right;\">\n",
       "      <th></th>\n",
       "      <th>Unnamed: 0</th>\n",
       "      <th>#</th>\n",
       "      <th>Name</th>\n",
       "      <th>Type 1</th>\n",
       "      <th>Type 2</th>\n",
       "      <th>Total</th>\n",
       "      <th>HP</th>\n",
       "      <th>Attack</th>\n",
       "      <th>Defense</th>\n",
       "      <th>Sp. Atk</th>\n",
       "      <th>Sp. Def</th>\n",
       "      <th>Speed</th>\n",
       "      <th>Generation</th>\n",
       "      <th>Legendary</th>\n",
       "      <th>avg</th>\n",
       "    </tr>\n",
       "  </thead>\n",
       "  <tbody>\n",
       "    <tr>\n",
       "      <th>0</th>\n",
       "      <td>0</td>\n",
       "      <td>1</td>\n",
       "      <td>Bulbasaur</td>\n",
       "      <td>Grass</td>\n",
       "      <td>Poison</td>\n",
       "      <td>318</td>\n",
       "      <td>45</td>\n",
       "      <td>49</td>\n",
       "      <td>49</td>\n",
       "      <td>65</td>\n",
       "      <td>65</td>\n",
       "      <td>45</td>\n",
       "      <td>1</td>\n",
       "      <td>False</td>\n",
       "      <td>71.5</td>\n",
       "    </tr>\n",
       "    <tr>\n",
       "      <th>1</th>\n",
       "      <td>1</td>\n",
       "      <td>2</td>\n",
       "      <td>Ivysaur</td>\n",
       "      <td>Grass</td>\n",
       "      <td>Poison</td>\n",
       "      <td>405</td>\n",
       "      <td>60</td>\n",
       "      <td>62</td>\n",
       "      <td>63</td>\n",
       "      <td>80</td>\n",
       "      <td>80</td>\n",
       "      <td>60</td>\n",
       "      <td>1</td>\n",
       "      <td>False</td>\n",
       "      <td>92.5</td>\n",
       "    </tr>\n",
       "    <tr>\n",
       "      <th>2</th>\n",
       "      <td>2</td>\n",
       "      <td>3</td>\n",
       "      <td>Venusaur</td>\n",
       "      <td>Grass</td>\n",
       "      <td>Poison</td>\n",
       "      <td>525</td>\n",
       "      <td>80</td>\n",
       "      <td>82</td>\n",
       "      <td>83</td>\n",
       "      <td>100</td>\n",
       "      <td>100</td>\n",
       "      <td>80</td>\n",
       "      <td>1</td>\n",
       "      <td>False</td>\n",
       "      <td>122.5</td>\n",
       "    </tr>\n",
       "    <tr>\n",
       "      <th>3</th>\n",
       "      <td>3</td>\n",
       "      <td>3</td>\n",
       "      <td>VenusaurMega Venusaur</td>\n",
       "      <td>Grass</td>\n",
       "      <td>Poison</td>\n",
       "      <td>625</td>\n",
       "      <td>80</td>\n",
       "      <td>100</td>\n",
       "      <td>123</td>\n",
       "      <td>122</td>\n",
       "      <td>120</td>\n",
       "      <td>80</td>\n",
       "      <td>1</td>\n",
       "      <td>False</td>\n",
       "      <td>151.5</td>\n",
       "    </tr>\n",
       "    <tr>\n",
       "      <th>4</th>\n",
       "      <td>4</td>\n",
       "      <td>4</td>\n",
       "      <td>Charmander</td>\n",
       "      <td>Fire</td>\n",
       "      <td>NaN</td>\n",
       "      <td>309</td>\n",
       "      <td>39</td>\n",
       "      <td>52</td>\n",
       "      <td>43</td>\n",
       "      <td>60</td>\n",
       "      <td>50</td>\n",
       "      <td>65</td>\n",
       "      <td>1</td>\n",
       "      <td>False</td>\n",
       "      <td>67.0</td>\n",
       "    </tr>\n",
       "  </tbody>\n",
       "</table>\n",
       "</div>"
      ],
      "text/plain": [
       "   Unnamed: 0  #                   Name Type 1  Type 2  Total  HP  Attack  \\\n",
       "0           0  1              Bulbasaur  Grass  Poison    318  45      49   \n",
       "1           1  2                Ivysaur  Grass  Poison    405  60      62   \n",
       "2           2  3               Venusaur  Grass  Poison    525  80      82   \n",
       "3           3  3  VenusaurMega Venusaur  Grass  Poison    625  80     100   \n",
       "4           4  4             Charmander   Fire     NaN    309  39      52   \n",
       "\n",
       "   Defense  Sp. Atk  Sp. Def  Speed  Generation  Legendary    avg  \n",
       "0       49       65       65     45           1      False   71.5  \n",
       "1       63       80       80     60           1      False   92.5  \n",
       "2       83      100      100     80           1      False  122.5  \n",
       "3      123      122      120     80           1      False  151.5  \n",
       "4       43       60       50     65           1      False   67.0  "
      ]
     },
     "execution_count": 32,
     "metadata": {},
     "output_type": "execute_result"
    }
   ],
   "source": [
    "pk['avg']=(pk['HP']+pk['Attack']+pk['Defense'])/2 #create new colum named avg with average value of this field\n",
    "pk.head(5)"
   ]
  },
  {
   "cell_type": "code",
   "execution_count": 33,
   "id": "e94d7f3a",
   "metadata": {},
   "outputs": [],
   "source": [
    "pk.to_csv('pokemon.csv')#toupdate original file"
   ]
  },
  {
   "cell_type": "code",
   "execution_count": 34,
   "id": "f09c9318",
   "metadata": {},
   "outputs": [
    {
     "data": {
      "text/html": [
       "<div>\n",
       "<style scoped>\n",
       "    .dataframe tbody tr th:only-of-type {\n",
       "        vertical-align: middle;\n",
       "    }\n",
       "\n",
       "    .dataframe tbody tr th {\n",
       "        vertical-align: top;\n",
       "    }\n",
       "\n",
       "    .dataframe thead th {\n",
       "        text-align: right;\n",
       "    }\n",
       "</style>\n",
       "<table border=\"1\" class=\"dataframe\">\n",
       "  <thead>\n",
       "    <tr style=\"text-align: right;\">\n",
       "      <th></th>\n",
       "      <th>Unnamed: 0</th>\n",
       "      <th>#</th>\n",
       "      <th>Name</th>\n",
       "      <th>Type 1</th>\n",
       "      <th>Type 2</th>\n",
       "      <th>Total</th>\n",
       "      <th>HP</th>\n",
       "      <th>Attack</th>\n",
       "      <th>Defense</th>\n",
       "      <th>Sp. Atk</th>\n",
       "      <th>Sp. Def</th>\n",
       "      <th>Speed</th>\n",
       "      <th>Generation</th>\n",
       "      <th>Legendary</th>\n",
       "      <th>avg</th>\n",
       "    </tr>\n",
       "  </thead>\n",
       "  <tbody>\n",
       "    <tr>\n",
       "      <th>206</th>\n",
       "      <td>206</td>\n",
       "      <td>191</td>\n",
       "      <td>Sunkern</td>\n",
       "      <td>Grass</td>\n",
       "      <td>NaN</td>\n",
       "      <td>180</td>\n",
       "      <td>30</td>\n",
       "      <td>30</td>\n",
       "      <td>30</td>\n",
       "      <td>30</td>\n",
       "      <td>30</td>\n",
       "      <td>30</td>\n",
       "      <td>2</td>\n",
       "      <td>False</td>\n",
       "      <td>45.0</td>\n",
       "    </tr>\n",
       "    <tr>\n",
       "      <th>322</th>\n",
       "      <td>322</td>\n",
       "      <td>298</td>\n",
       "      <td>Azurill</td>\n",
       "      <td>Normal</td>\n",
       "      <td>Fairy</td>\n",
       "      <td>190</td>\n",
       "      <td>50</td>\n",
       "      <td>20</td>\n",
       "      <td>40</td>\n",
       "      <td>20</td>\n",
       "      <td>40</td>\n",
       "      <td>20</td>\n",
       "      <td>3</td>\n",
       "      <td>False</td>\n",
       "      <td>55.0</td>\n",
       "    </tr>\n",
       "    <tr>\n",
       "      <th>446</th>\n",
       "      <td>446</td>\n",
       "      <td>401</td>\n",
       "      <td>Kricketot</td>\n",
       "      <td>Bug</td>\n",
       "      <td>NaN</td>\n",
       "      <td>194</td>\n",
       "      <td>37</td>\n",
       "      <td>25</td>\n",
       "      <td>41</td>\n",
       "      <td>25</td>\n",
       "      <td>41</td>\n",
       "      <td>25</td>\n",
       "      <td>4</td>\n",
       "      <td>False</td>\n",
       "      <td>51.5</td>\n",
       "    </tr>\n",
       "    <tr>\n",
       "      <th>288</th>\n",
       "      <td>288</td>\n",
       "      <td>265</td>\n",
       "      <td>Wurmple</td>\n",
       "      <td>Bug</td>\n",
       "      <td>NaN</td>\n",
       "      <td>195</td>\n",
       "      <td>45</td>\n",
       "      <td>45</td>\n",
       "      <td>35</td>\n",
       "      <td>20</td>\n",
       "      <td>30</td>\n",
       "      <td>20</td>\n",
       "      <td>3</td>\n",
       "      <td>False</td>\n",
       "      <td>62.5</td>\n",
       "    </tr>\n",
       "    <tr>\n",
       "      <th>16</th>\n",
       "      <td>16</td>\n",
       "      <td>13</td>\n",
       "      <td>Weedle</td>\n",
       "      <td>Bug</td>\n",
       "      <td>Poison</td>\n",
       "      <td>195</td>\n",
       "      <td>40</td>\n",
       "      <td>35</td>\n",
       "      <td>30</td>\n",
       "      <td>20</td>\n",
       "      <td>20</td>\n",
       "      <td>50</td>\n",
       "      <td>1</td>\n",
       "      <td>False</td>\n",
       "      <td>52.5</td>\n",
       "    </tr>\n",
       "    <tr>\n",
       "      <th>...</th>\n",
       "      <td>...</td>\n",
       "      <td>...</td>\n",
       "      <td>...</td>\n",
       "      <td>...</td>\n",
       "      <td>...</td>\n",
       "      <td>...</td>\n",
       "      <td>...</td>\n",
       "      <td>...</td>\n",
       "      <td>...</td>\n",
       "      <td>...</td>\n",
       "      <td>...</td>\n",
       "      <td>...</td>\n",
       "      <td>...</td>\n",
       "      <td>...</td>\n",
       "      <td>...</td>\n",
       "    </tr>\n",
       "    <tr>\n",
       "      <th>424</th>\n",
       "      <td>424</td>\n",
       "      <td>383</td>\n",
       "      <td>GroudonPrimal Groudon</td>\n",
       "      <td>Ground</td>\n",
       "      <td>Fire</td>\n",
       "      <td>770</td>\n",
       "      <td>100</td>\n",
       "      <td>180</td>\n",
       "      <td>160</td>\n",
       "      <td>150</td>\n",
       "      <td>90</td>\n",
       "      <td>90</td>\n",
       "      <td>3</td>\n",
       "      <td>True</td>\n",
       "      <td>220.0</td>\n",
       "    </tr>\n",
       "    <tr>\n",
       "      <th>422</th>\n",
       "      <td>422</td>\n",
       "      <td>382</td>\n",
       "      <td>KyogrePrimal Kyogre</td>\n",
       "      <td>Water</td>\n",
       "      <td>NaN</td>\n",
       "      <td>770</td>\n",
       "      <td>100</td>\n",
       "      <td>150</td>\n",
       "      <td>90</td>\n",
       "      <td>180</td>\n",
       "      <td>160</td>\n",
       "      <td>90</td>\n",
       "      <td>3</td>\n",
       "      <td>True</td>\n",
       "      <td>170.0</td>\n",
       "    </tr>\n",
       "    <tr>\n",
       "      <th>164</th>\n",
       "      <td>164</td>\n",
       "      <td>150</td>\n",
       "      <td>MewtwoMega Mewtwo Y</td>\n",
       "      <td>Psychic</td>\n",
       "      <td>NaN</td>\n",
       "      <td>780</td>\n",
       "      <td>106</td>\n",
       "      <td>150</td>\n",
       "      <td>70</td>\n",
       "      <td>194</td>\n",
       "      <td>120</td>\n",
       "      <td>140</td>\n",
       "      <td>1</td>\n",
       "      <td>True</td>\n",
       "      <td>163.0</td>\n",
       "    </tr>\n",
       "    <tr>\n",
       "      <th>426</th>\n",
       "      <td>426</td>\n",
       "      <td>384</td>\n",
       "      <td>RayquazaMega Rayquaza</td>\n",
       "      <td>Dragon</td>\n",
       "      <td>Flying</td>\n",
       "      <td>780</td>\n",
       "      <td>105</td>\n",
       "      <td>180</td>\n",
       "      <td>100</td>\n",
       "      <td>180</td>\n",
       "      <td>100</td>\n",
       "      <td>115</td>\n",
       "      <td>3</td>\n",
       "      <td>True</td>\n",
       "      <td>192.5</td>\n",
       "    </tr>\n",
       "    <tr>\n",
       "      <th>163</th>\n",
       "      <td>163</td>\n",
       "      <td>150</td>\n",
       "      <td>MewtwoMega Mewtwo X</td>\n",
       "      <td>Psychic</td>\n",
       "      <td>Fighting</td>\n",
       "      <td>780</td>\n",
       "      <td>106</td>\n",
       "      <td>190</td>\n",
       "      <td>100</td>\n",
       "      <td>154</td>\n",
       "      <td>100</td>\n",
       "      <td>130</td>\n",
       "      <td>1</td>\n",
       "      <td>True</td>\n",
       "      <td>198.0</td>\n",
       "    </tr>\n",
       "  </tbody>\n",
       "</table>\n",
       "<p>800 rows × 15 columns</p>\n",
       "</div>"
      ],
      "text/plain": [
       "     Unnamed: 0    #                   Name   Type 1    Type 2  Total   HP  \\\n",
       "206         206  191                Sunkern    Grass       NaN    180   30   \n",
       "322         322  298                Azurill   Normal     Fairy    190   50   \n",
       "446         446  401              Kricketot      Bug       NaN    194   37   \n",
       "288         288  265                Wurmple      Bug       NaN    195   45   \n",
       "16           16   13                 Weedle      Bug    Poison    195   40   \n",
       "..          ...  ...                    ...      ...       ...    ...  ...   \n",
       "424         424  383  GroudonPrimal Groudon   Ground      Fire    770  100   \n",
       "422         422  382    KyogrePrimal Kyogre    Water       NaN    770  100   \n",
       "164         164  150    MewtwoMega Mewtwo Y  Psychic       NaN    780  106   \n",
       "426         426  384  RayquazaMega Rayquaza   Dragon    Flying    780  105   \n",
       "163         163  150    MewtwoMega Mewtwo X  Psychic  Fighting    780  106   \n",
       "\n",
       "     Attack  Defense  Sp. Atk  Sp. Def  Speed  Generation  Legendary    avg  \n",
       "206      30       30       30       30     30           2      False   45.0  \n",
       "322      20       40       20       40     20           3      False   55.0  \n",
       "446      25       41       25       41     25           4      False   51.5  \n",
       "288      45       35       20       30     20           3      False   62.5  \n",
       "16       35       30       20       20     50           1      False   52.5  \n",
       "..      ...      ...      ...      ...    ...         ...        ...    ...  \n",
       "424     180      160      150       90     90           3       True  220.0  \n",
       "422     150       90      180      160     90           3       True  170.0  \n",
       "164     150       70      194      120    140           1       True  163.0  \n",
       "426     180      100      180      100    115           3       True  192.5  \n",
       "163     190      100      154      100    130           1       True  198.0  \n",
       "\n",
       "[800 rows x 15 columns]"
      ]
     },
     "execution_count": 34,
     "metadata": {},
     "output_type": "execute_result"
    }
   ],
   "source": [
    "pk.sort_values(['Total'],ascending=1)# to sort data in asending order 1-for ascending and 0-for desending"
   ]
  },
  {
   "cell_type": "code",
   "execution_count": null,
   "id": "a03b88ae",
   "metadata": {},
   "outputs": [],
   "source": []
  }
 ],
 "metadata": {
  "kernelspec": {
   "display_name": "Python 3 (ipykernel)",
   "language": "python",
   "name": "python3"
  },
  "language_info": {
   "codemirror_mode": {
    "name": "ipython",
    "version": 3
   },
   "file_extension": ".py",
   "mimetype": "text/x-python",
   "name": "python",
   "nbconvert_exporter": "python",
   "pygments_lexer": "ipython3",
   "version": "3.11.5"
  }
 },
 "nbformat": 4,
 "nbformat_minor": 5
}
